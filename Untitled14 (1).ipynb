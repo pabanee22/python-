{
 "cells": [
  {
   "cell_type": "code",
   "execution_count": 1,
   "id": "4e3cfd41",
   "metadata": {},
   "outputs": [
    {
     "name": "stdout",
     "output_type": "stream",
     "text": [
      "Enter distance in Kilometer:4\n",
      "Distance in Miles: 2.4860161591050343\n"
     ]
    }
   ],
   "source": [
    "x = int(input(\"Enter distance in Kilometer:\"))\n",
    "print (\"Distance in Miles:\", x / 1.609)"
   ]
  },
  {
   "cell_type": "code",
   "execution_count": 2,
   "id": "a338942e",
   "metadata": {},
   "outputs": [
    {
     "name": "stdout",
     "output_type": "stream",
     "text": [
      "Enter temperature in Celsius:37\n",
      "Temperature in Fahrenheit: 98.60000000000001\n"
     ]
    }
   ],
   "source": [
    "x= int(input(\"Enter temperature in Celsius:\"))\n",
    "print (\"Temperature in Fahrenheit:\", (x * 1.8) + 32)\n"
   ]
  },
  {
   "cell_type": "code",
   "execution_count": 3,
   "id": "38d09894",
   "metadata": {},
   "outputs": [
    {
     "name": "stdout",
     "output_type": "stream",
     "text": [
      "Enter a number:-45\n",
      "Number is negative\n"
     ]
    }
   ],
   "source": [
    "num = int(input(\"Enter a number:\"))\n",
    "if (num > 0):\n",
    "    print (\"Number is positive\")\n",
    "elif (num == 0):\n",
    "    print (\"Number is 0\")\n",
    "else:\n",
    "    print (\"Number is negative\")"
   ]
  },
  {
   "cell_type": "code",
   "execution_count": 4,
   "id": "4f7c33f2",
   "metadata": {},
   "outputs": [
    {
     "name": "stdout",
     "output_type": "stream",
     "text": [
      "Enter a number:3\n",
      "3 is odd\n"
     ]
    }
   ],
   "source": [
    "num = int(input(\"Enter a number:\"))\n",
    "if (num % 2 == 0):\n",
    "    print (\"{} is even\".format(num))\n",
    "else:\n",
    "    print (\"{} is odd\".format(num))"
   ]
  },
  {
   "cell_type": "code",
   "execution_count": 5,
   "id": "c1cc09bb",
   "metadata": {},
   "outputs": [
    {
     "name": "stdout",
     "output_type": "stream",
     "text": [
      "Enter an year:2001\n",
      "2001 is not a leap year\n"
     ]
    }
   ],
   "source": [
    "\n",
    "year = int(input(\"Enter an year:\"))\n",
    "if (year % 4 == 0):\n",
    "    if (year % 100 == 0):\n",
    "        if (year % 400 == 0):\n",
    "            print (\"{} is a leap year\".format(year))\n",
    "        else:\n",
    "            print (\"{} is not a leap year\".format(year))\n",
    "    else:\n",
    "         print (\"{} is a leap year\".format(year))\n",
    "else:\n",
    "     print (\"{} is not a leap year\".format(year))"
   ]
  },
  {
   "cell_type": "code",
   "execution_count": 6,
   "id": "dd3c9f8b",
   "metadata": {},
   "outputs": [
    {
     "name": "stdout",
     "output_type": "stream",
     "text": [
      "Enter a number:45\n",
      "45 is not prime\n"
     ]
    }
   ],
   "source": [
    "num = int(input(\"Enter a number:\"))\n",
    "flag = 0\n",
    "for i in range (2, num):\n",
    "    if (num % i == 0):\n",
    "        flag = 1\n",
    "        \n",
    "if (flag == 1):\n",
    "    print (\"{} is not prime\".format(num))\n",
    "else:\n",
    "    print (\"{} is a prime number\".format(num))"
   ]
  },
  {
   "cell_type": "code",
   "execution_count": 8,
   "id": "4c412c6e",
   "metadata": {},
   "outputs": [
    {
     "name": "stdout",
     "output_type": "stream",
     "text": [
      "Enter lower limit of the range:10\n",
      "Enter upper limit of the range:20\n",
      "List of prime numbers between 10 and 20 are --\n",
      "11\n",
      "13\n",
      "17\n",
      "19\n"
     ]
    }
   ],
   "source": [
    "low = int(input(\"Enter lower limit of the range:\"))\n",
    "up = int(input(\"Enter upper limit of the range:\"))\n",
    "print (\"List of prime numbers between {} and {} are --\".format(low, up))\n",
    "for i in range (low, up + 1):\n",
    "    for j in range(2, i):\n",
    "        if (i > 1):\n",
    "            if (i % j == 0):\n",
    "                 break\n",
    "    else:\n",
    "        print(i)"
   ]
  },
  {
   "cell_type": "code",
   "execution_count": 9,
   "id": "4de72dde",
   "metadata": {},
   "outputs": [
    {
     "name": "stdout",
     "output_type": "stream",
     "text": [
      "Enter a number:32\n",
      "Multiplication table of 32 --\n",
      "32 x 1 = 32\n",
      "32 x 2 = 64\n",
      "32 x 3 = 96\n",
      "32 x 4 = 128\n",
      "32 x 5 = 160\n",
      "32 x 6 = 192\n",
      "32 x 7 = 224\n",
      "32 x 8 = 256\n",
      "32 x 9 = 288\n",
      "32 x 10 = 320\n"
     ]
    }
   ],
   "source": [
    "\n",
    "num = int(input(\"Enter a number:\"))\n",
    "print (\"Multiplication table of {} --\".format(num))\n",
    "for i in range (1, 11):\n",
    "    print (num, \"x\", i, \"=\", num * i)"
   ]
  },
  {
   "cell_type": "code",
   "execution_count": null,
   "id": "ecc61cc7",
   "metadata": {},
   "outputs": [],
   "source": []
  }
 ],
 "metadata": {
  "kernelspec": {
   "display_name": "Python 3",
   "language": "python",
   "name": "python3"
  },
  "language_info": {
   "codemirror_mode": {
    "name": "ipython",
    "version": 3
   },
   "file_extension": ".py",
   "mimetype": "text/x-python",
   "name": "python",
   "nbconvert_exporter": "python",
   "pygments_lexer": "ipython3",
   "version": "3.8.8"
  }
 },
 "nbformat": 4,
 "nbformat_minor": 5
}
