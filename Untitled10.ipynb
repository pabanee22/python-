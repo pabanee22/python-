{
 "cells": [
  {
   "cell_type": "code",
   "execution_count": 19,
   "id": "8d826186",
   "metadata": {},
   "outputs": [
    {
     "name": "stdout",
     "output_type": "stream",
     "text": [
      "enter the number:4\n",
      "enter another number:6\n",
      "it's a rectangle\n"
     ]
    }
   ],
   "source": [
    "l=int(input(\"enter the number:\"))\n",
    "b=int(input(\"enter another number:\"))\n",
    "if l==b:\n",
    "    print(\"it's a square\")\n",
    "else:\n",
    "    print(\"it's a rectangle\")\n"
   ]
  },
  {
   "cell_type": "code",
   "execution_count": 20,
   "id": "8270780b",
   "metadata": {},
   "outputs": [
    {
     "name": "stdout",
     "output_type": "stream",
     "text": [
      "enter first value:50\n",
      "\n",
      "enter second value:20\n",
      "first is greater\n"
     ]
    }
   ],
   "source": [
    "x=int(input(\"enter first value:\"))\n",
    "y=int(input(\"\\nenter second value:\"))\n",
    "print(\"first is greater\") if x>y else print(\"second is greater\") if x<y else print(\"both are equal\")"
   ]
  },
  {
   "cell_type": "code",
   "execution_count": 22,
   "id": "09f10b3f",
   "metadata": {},
   "outputs": [
    {
     "name": "stdout",
     "output_type": "stream",
     "text": [
      "apple\n",
      "banana\n",
      "cherry\n"
     ]
    }
   ],
   "source": [
    "fruits = [\"apple\", \"banana\", \"cherry\"]\n",
    "for x in fruits:\n",
    "    print(x)"
   ]
  },
  {
   "cell_type": "code",
   "execution_count": 23,
   "id": "768650ad",
   "metadata": {},
   "outputs": [
    {
     "name": "stdout",
     "output_type": "stream",
     "text": [
      "['apple', 'banana', 'cherry', 'mango', 'pineapple', 'papaya']\n"
     ]
    }
   ],
   "source": [
    "thislist = [\"apple\", \"banana\", \"cherry\"]\n",
    "tropical = [\"mango\", \"pineapple\", \"papaya\"]\n",
    "thislist.extend(tropical)\n",
    "print(thislist)"
   ]
  },
  {
   "cell_type": "code",
   "execution_count": 26,
   "id": "62097d82",
   "metadata": {},
   "outputs": [
    {
     "name": "stdout",
     "output_type": "stream",
     "text": [
      "[0, 1, 2, 3, 4]\n"
     ]
    }
   ],
   "source": [
    "new = [x for x in range(0,30) if x<5]\n",
    "print(new)"
   ]
  },
  {
   "cell_type": "code",
   "execution_count": 28,
   "id": "63d7e212",
   "metadata": {},
   "outputs": [
    {
     "name": "stdout",
     "output_type": "stream",
     "text": [
      "()\n"
     ]
    }
   ],
   "source": [
    "thistuple = (\"apple\", \"banana\" , \"cherry\", \"orange\", \"kiwi\", \"melon\", \"mango\")\n",
    "print(thistuple[-3:1])"
   ]
  },
  {
   "cell_type": "code",
   "execution_count": null,
   "id": "7587887a",
   "metadata": {},
   "outputs": [],
   "source": []
  }
 ],
 "metadata": {
  "kernelspec": {
   "display_name": "Python 3",
   "language": "python",
   "name": "python3"
  },
  "language_info": {
   "codemirror_mode": {
    "name": "ipython",
    "version": 3
   },
   "file_extension": ".py",
   "mimetype": "text/x-python",
   "name": "python",
   "nbconvert_exporter": "python",
   "pygments_lexer": "ipython3",
   "version": "3.8.8"
  }
 },
 "nbformat": 4,
 "nbformat_minor": 5
}
